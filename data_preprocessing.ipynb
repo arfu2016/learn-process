{
 "cells": [
  {
   "cell_type": "markdown",
   "metadata": {},
   "source": [
    "Step 1: Importing the libraries"
   ]
  },
  {
   "cell_type": "code",
   "execution_count": 1,
   "metadata": {
    "collapsed": true
   },
   "outputs": [],
   "source": [
    "import numpy as np\n",
    "import pandas as pd"
   ]
  },
  {
   "cell_type": "markdown",
   "metadata": {},
   "source": [
    "Step 2: Importing dataset"
   ]
  },
  {
   "cell_type": "code",
   "execution_count": null,
   "metadata": {
    "collapsed": true
   },
   "outputs": [],
   "source": [
    "dataset = pd.read_csv('Data.csv')\n",
    "X = dataset.iloc[ : , :-1].values\n",
    "Y = dataset.iloc[ : , 3].values\n",
    "\n",
    "#  -----------------------------------------------------------\n",
    "\n",
    "xl = pd.ExcelFile(\"dognition_data_aggregated_by_dogid.xlsx\")\n",
    "# pd.read_excel()\n",
    "# xlrd is used by pandas\n",
    "xl.sheet_names\n",
    "print 'Sheet name of the excel file:', xl.sheet_names[0]\n",
    "df = xl.parse(\"dog_id_max_ranks\")\n",
    "# produce a dataframe\n",
    "# df.head()\n",
    "\n",
    "\n",
    "# For each column, show the number of nan values\n",
    "\n",
    "# Search for the nan values in each column\n",
    "print df.isnull().sum()\n",
    "# df.isnull() is also a dataframe, and then sum() by columns\n",
    "\n",
    "\n",
    "# Search for the nan values in each row\n",
    "\n",
    "num = np.sum(df.isnull().values, axis = 1).tolist()\n",
    "l1 = list(set(num))\n",
    "l1.sort()\n",
    "fre = {i:num.count(i) for i in l1}\n",
    "dt = pd.DataFrame(fre.items(), columns=['Number of NaNs', 'Count'])\n",
    "print dt\n"
   ]
  },
  {
   "cell_type": "markdown",
   "metadata": {},
   "source": [
    "Step 3: Handling the missing data and outliers"
   ]
  },
  {
   "cell_type": "code",
   "execution_count": null,
   "metadata": {
    "collapsed": true
   },
   "outputs": [],
   "source": [
    "from sklearn.preprocessing import Imputer\n",
    "imputer = Imputer(missing_values = \"NaN\", strategy = \"mean\", axis = 0)\n",
    "imputer = imputer.fit(X[ : , 1:3])\n",
    "X[ : , 1:3] = imputer.transform(X[ : , 1:3])\n",
    "\n",
    "# ----------------------------------------------------------\n",
    "\n",
    "db = df.drop(df.index[[num.index(22)]])\n",
    "# Simply handling the missing data\n"
   ]
  },
  {
   "cell_type": "markdown",
   "metadata": {},
   "source": [
    "Step 4: Encoding categorical data"
   ]
  },
  {
   "cell_type": "code",
   "execution_count": null,
   "metadata": {
    "collapsed": true
   },
   "outputs": [],
   "source": [
    "from sklearn.preprocessing import LabelEncoder, OneHotEncoder\n",
    "labelencoder_X = LabelEncoder()\n",
    "X[ : , 0] = labelencoder_X.fit_transform(X[ : , 0])\n",
    "\n",
    "# Creating a dummy variable\n",
    "# a dummy variable is a categorical variable using 0 and 1\n",
    "\n",
    "onehotencoder = OneHotEncoder(categorical_features = [0])\n",
    "X = onehotencoder.fit_transform(X).toarray()\n",
    "labelencoder_Y = LabelEncoder()\n",
    "Y =  labelencoder_Y.fit_transform(Y)\n",
    "\n",
    "# ----------------------------------------------------------------\n",
    "\n",
    "db2 = db.copy()\n",
    "for y in db2.columns:\n",
    "    if db2[y].dtype == object:\n",
    "        db2[y] = db2[y].astype('category')\n",
    "db2['Dog_Fixed'] = db2['Dog_Fixed'].astype('category') \n",
    "db2['DNA_Tested'] = db2['DNA_Tested'].astype('category')\n",
    "db2['Subscribed'] = db2['Subscribed'].astype('category')\n",
    "# categorical data in pandas is like factor data in R\n",
    "\n",
    "# change unreasonable values in the data\n",
    "\n",
    "db2.loc[db2['Weight'] == 0.0,'Weight'] = 0.1\n",
    "# first check the distribution of Weight, and other int and float columns\n",
    "\n",
    "db2.loc[db2['Max_Dogs'] == 0.0, 'Max_Dogs'] = 1.0\n",
    "# first check the distribution of Max_Dogs\n",
    "\n",
    "# convert the column below to ordered category\n",
    "\n",
    "db2['Last_Active_At'] = db2['Last_Active_At'].cat.as_ordered()\n",
    "print db2.dtypes\n",
    "print\n",
    "\n",
    "print 'The columns of ordered category:'\n",
    "for i in db2.columns:\n",
    "    if db2[i].dtype.name == 'category' and db2[i].cat.ordered == True:\n",
    "        print i\n"
   ]
  },
  {
   "cell_type": "markdown",
   "metadata": {},
   "source": [
    "Step 5: Splitting the datasets into training sets and Test sets"
   ]
  },
  {
   "cell_type": "code",
   "execution_count": null,
   "metadata": {
    "collapsed": true
   },
   "outputs": [],
   "source": [
    "from sklearn.cross_validation import train_test_split\n",
    "X_train, X_test, Y_train, Y_test = train_test_split( X , Y , test_size = 0.2, random_state = 0)"
   ]
  },
  {
   "cell_type": "markdown",
   "metadata": {},
   "source": [
    "Step 6: Feature Scaling"
   ]
  },
  {
   "cell_type": "code",
   "execution_count": null,
   "metadata": {
    "collapsed": true
   },
   "outputs": [],
   "source": [
    "from sklearn.preprocessing import StandardScaler\n",
    "sc_X = StandardScaler()\n",
    "X_train = sc_X.fit_transform(X_train)\n",
    "X_test = sc_X.fit_transform(X_test)\n",
    "\n",
    "#-------------------------------------------------------\n",
    "\n",
    "from ggplot import *\n",
    "\n",
    "p = ggplot(db2, aes(x='Total Tests Completed'))\n",
    "# p + geom_histogram()\n",
    "# p + geom_histogram(binwidth=1)\n",
    "p + geom_histogram(bins=20)\n",
    "\n",
    "p = ggplot(db2, aes(x='Gender',y='Total Tests Completed'))\n",
    "# p + geom_violin(alpha = .75)\n",
    "p + geom_violin()\n",
    "\n",
    "import seaborn as sns\n",
    "# seaborn.__version__\n",
    "sns.violinplot(x=db2['Gender'], y=db2['Total Tests Completed'], inner=None, color=\"white\", \n",
    "               cut=0)\n",
    "sns.stripplot(x=db2['Gender'], y=db2['Total Tests Completed'], jitter=.3,  color=\"black\", \n",
    "              alpha=.1, size=4)\n",
    "\n",
    "sns.set_style(\"whitegrid\")\n",
    "g=sns.boxplot(x=db2['Total Tests Completed'])\n",
    "\n",
    "temp = np.log10(db2['Total Tests Completed'])\n",
    "sns.boxplot(x=temp)\n",
    "\n",
    "sns.boxplot(x=\"Gender\", y=\"Total Tests Completed\", data=db2)\n"
   ]
  }
 ],
 "metadata": {
  "kernelspec": {
   "display_name": "Python 3",
   "language": "python",
   "name": "python3"
  },
  "language_info": {
   "codemirror_mode": {
    "name": "ipython",
    "version": 3
   },
   "file_extension": ".py",
   "mimetype": "text/x-python",
   "name": "python",
   "nbconvert_exporter": "python",
   "pygments_lexer": "ipython3",
   "version": "3.6.3"
  }
 },
 "nbformat": 4,
 "nbformat_minor": 2
}
