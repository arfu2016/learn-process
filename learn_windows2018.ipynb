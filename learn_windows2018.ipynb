{
 "cells": [
  {
   "cell_type": "markdown",
   "metadata": {},
   "source": [
    "# windows\n",
    "\n",
    "[How to get cookies from web-browser with Python?](https://stackoverflow.com/questions/8812420/how-to-get-cookies-from-web-browser-with-python#)\n",
    "\n",
    "[Environment variables - websocket](https://github.com/joewalnes/websocketd/wiki/Environment-variables)\n",
    "\n",
    "[Simple Cookie Logic](https://web.stanford.edu/group/spires/uspires/suspires/suspires.cookie.html)\n"
   ]
  }
 ],
 "metadata": {
  "kernelspec": {
   "display_name": "Python 3",
   "language": "python",
   "name": "python3"
  },
  "language_info": {
   "codemirror_mode": {
    "name": "ipython",
    "version": 3
   },
   "file_extension": ".py",
   "mimetype": "text/x-python",
   "name": "python",
   "nbconvert_exporter": "python",
   "pygments_lexer": "ipython3",
   "version": "3.6.2"
  }
 },
 "nbformat": 4,
 "nbformat_minor": 2
}
