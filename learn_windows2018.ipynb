{
 "cells": [
  {
   "cell_type": "markdown",
   "metadata": {},
   "source": [
    "# windows\n",
    "\n",
    "This notebook requires python 3.6.2\n",
    "\n",
    "[How to get cookies from web-browser with Python?](https://stackoverflow.com/questions/8812420/how-to-get-cookies-from-web-browser-with-python#)\n",
    "\n",
    "[Environment variables - websocket](https://github.com/joewalnes/websocketd/wiki/Environment-variables)\n",
    "\n",
    "[Simple Cookie Logic](https://web.stanford.edu/group/spires/uspires/suspires/suspires.cookie.html)\n",
    "\n",
    "[getting-the-current-table-in-numbers-python-appscript](https://stackoverflow.com/questions/1694060/getting-the-current-table-in-numbers-python-appscript)\n",
    "\n",
    "[appscript 1.0.1](https://pypi.org/project/appscript/)"
   ]
  }
 ],
 "metadata": {
  "kernelspec": {
   "display_name": "Python 3",
   "language": "python",
   "name": "python3"
  },
  "language_info": {
   "codemirror_mode": {
    "name": "ipython",
    "version": 3
   },
   "file_extension": ".py",
   "mimetype": "text/x-python",
   "name": "python",
   "nbconvert_exporter": "python",
   "pygments_lexer": "ipython3",
   "version": "3.6.2"
  }
 },
 "nbformat": 4,
 "nbformat_minor": 2
}
