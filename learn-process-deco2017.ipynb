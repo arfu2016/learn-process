{
 "cells": [
  {
   "cell_type": "markdown",
   "metadata": {},
   "source": [
    "[Creating a specific 3.6 binary for Linux](https://github.com/tensorflow/tensorflow/issues/14182)\n",
    "\n",
    "[PyCharm and PYTHONPATH](https://stackoverflow.com/questions/28326362/pycharm-and-pythonpath)\n",
    "\n",
    "[Pycharm: Marking a folder as 'sources root' is not recursive for subfolders](https://stackoverflow.com/questions/42094723/pycharm-marking-a-folder-as-sources-root-is-not-recursive-for-subfolders/)\n",
    "\n",
    "First, set SourceCode as the sources root, not the project folder\n",
    "\n",
    "Second, SourceCode/aitest/aitest.py is the server which communicate to the management tool fo the web service\n",
    "\n",
    "Third, in SourceCode/server/, server.py is the server which communicate to the backend of the web service, push_test.py is the test file for server.py\n",
    "\n",
    "Under SourceCode, there are server.yaml（服务器配置文件） and requirements.txt（项目所要求的Python包）.\n",
    "\n",
    "In server.yaml, for local development, we use ENV_VALUE: \"local\"; for local development, the SERVER_NAME should correspond to the variant G_CHANNEL_GATEWAY_TO_ROBOT_DATA in push_test.py (if we use push_test.py to test)\n",
    "\n"
   ]
  },
  {
   "cell_type": "markdown",
   "metadata": {},
   "source": [
    "For spacy insall\n",
    "\n",
    "First, install dependencies\n",
    "\n",
    "    sudo apt-get update -y\n",
    "\n",
    "    # install python3 and dev headers\n",
    "    sudo apt-get install -y python3 python3-dev\n",
    "\n",
    "    # pip is great\n",
    "    sudo apt-get install -y python-pip\n",
    "\n",
    "    # for cryptography (required by twisted[tls])\n",
    "    sudo apt-get install -y libssl-dev libffi-dev\n",
    "\n",
    "    # for lxml\n",
    "    sudo apt-get install -y libxml2-dev libxslt1-dev\n",
    "\n",
    "[error: command 'x86_64-linux-gnu-gcc' failed with exit status 1](https://github.com/scrapy/scrapy/issues/2115)\n",
    "    \n",
    "Second, intall requirements.txt\n",
    "\n",
    "    pip install -r requirements.txt -i https://pypi.mirrors.ustc.edu.cn/simple\n",
    "    \n",
    "Third, install spaCy under spaCyCn   \n",
    "    \n",
    "    (py3) deco@ubuntu:~/projects/cupro/spaCyCn$ pip install -e .    \n",
    "    \n",
    "Fourth, do the same thing for ~/projects/cupro/rasa_nlu-master\n",
    "\n",
    "Fifth, install dev-requirements\n",
    "\n",
    "    (py3) deco@ubuntu:~/projects/cupro/rasa_nlu-master$ pip install -r dev-requirements.txt -i https://pypi.mirrors.ustc.edu.cn/simple\n",
    "    "
   ]
  },
  {
   "cell_type": "markdown",
   "metadata": {},
   "source": [
    "[Graph-based Data Model](https://www.w3.org/TR/rdf11-concepts/)\n",
    "\n",
    "[Jupyter Notebook in Pycharm](https://stackoverflow.com/questions/41736309/jupyter-notebook-in-pycharm)\n",
    "\n",
    "    sudo tar xf pycharm-community-2017.2.4.tar.gz -C /opt/pycharm\n",
    "    cd /opt/pycharm\n",
    "    cd pycharm-community-2017.2.4/\n",
    "    cd bin\n",
    "    ./pycharm.sh\n",
    "    \n",
    "[How do you get the regular software center from Ubuntu on Ubuntu Mate](https://askubuntu.com/questions/904177/how-do-you-get-the-regular-software-center-from-ubuntu-on-ubuntu-mate)\n",
    "\n",
    "[How can I list all applications installed in my system?](https://askubuntu.com/questions/433609/how-can-i-list-all-applications-installed-in-my-system)\n",
    "\n",
    "[Introduction to the Ubuntu Mate Desktop](https://docs.cs.cf.ac.uk/notes/mate-desktop/)\n",
    "\n",
    "[sklearn.linear_model.LogisticRegression](http://scikit-learn.org/stable/modules/generated/sklearn.linear_model.LogisticRegression.html)\n"
   ]
  },
  {
   "cell_type": "markdown",
   "metadata": {},
   "source": [
    "[Bidirectional recurrent neural networks](https://en.wikipedia.org/wiki/Bidirectional_recurrent_neural_networks)\n",
    "\n",
    "下载 wget in mate terminal\n",
    "\n",
    "    wget https://download-cf.jetbrains.com/python/pycharm-community-2017.2.4.tar.gz\n",
    "    "
   ]
  },
  {
   "cell_type": "markdown",
   "metadata": {},
   "source": []
  }
 ],
 "metadata": {
  "kernelspec": {
   "display_name": "Python 3",
   "language": "python",
   "name": "python3"
  },
  "language_info": {
   "codemirror_mode": {
    "name": "ipython",
    "version": 3
   },
   "file_extension": ".py",
   "mimetype": "text/x-python",
   "name": "python",
   "nbconvert_exporter": "python",
   "pygments_lexer": "ipython3",
   "version": "3.6.3"
  }
 },
 "nbformat": 4,
 "nbformat_minor": 2
}
