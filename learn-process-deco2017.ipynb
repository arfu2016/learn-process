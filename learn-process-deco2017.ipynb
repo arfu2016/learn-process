{
 "cells": [
  {
   "cell_type": "markdown",
   "metadata": {},
   "source": [
    "[Guides r0.12 Sequence-to-Sequence Models](https://www.tensorflow.org/versions/r0.12/tutorials/seq2seq/)\n",
    "\n",
    "[suriyadeepan/practical_seq2seq](https://github.com/suriyadeepan/practical_seq2seq)\n",
    "\n",
    "[ematvey/tensorflow-seq2seq-tutorials](https://github.com/ematvey/tensorflow-seq2seq-tutorials)\n",
    "\n",
    "[Neural Machine Translation (seq2seq) Tutorial](https://github.com/tensorflow/nmt)\n",
    "\n",
    "[nmt#embedding](https://github.com/tensorflow/nmt#embedding)\n",
    "\n",
    "[Download single files from GitHub](https://stackoverflow.com/questions/4604663/download-single-files-from-github)\n",
    "\n",
    "[Porting Python 2 Code to Python 3](https://docs.python.org/3/howto/pyporting.html)\n",
    "\n"
   ]
  },
  {
   "cell_type": "markdown",
   "metadata": {},
   "source": [
    "[基于Pytorch的中文聊天机器人 集成BeamSearch算法](https://github.com/yanwii/seq2seq)\n",
    "\n",
    "[seq2seq中文聊天机器人](https://github.com/yanwii/dynamic-seq2seq)\n",
    "\n",
    "[基於向量匹配的情境式聊天機器人](https://github.com/zake7749/Chatbot)\n",
    "\n",
    "[gunthercox/ChatterBot](https://github.com/gunthercox/ChatterBot)\n",
    "\n",
    "[Tensorflow chatbot demo by @Sirajology on Youtube](https://github.com/llSourcell/tensorflow_chatbot)\n",
    "\n",
    "[Conchylicultor/DeepQA](https://github.com/Conchylicultor/DeepQA)\n",
    "\n",
    "[Finding Usages in Project](https://www.jetbrains.com/help/pycharm/finding-usages-in-project.html)\n",
    "\n",
    "[alfredfrancis/ai-chatbot-framework](https://github.com/alfredfrancis/ai-chatbot-framework/)\n",
    "\n",
    "[The Stanford Natural Language Processing Group](https://nlp.stanford.edu/software/)\n",
    "\n",
    "[How is a chatbot engine like Wit.ai or API.AI made?](https://www.quora.com/How-is-a-chatbot-engine-like-Wit-ai-or-API-AI-made-How-can-I-make-a-simple-version-of-it-Provide-me-with-some-algorithms-and-techniques)\n",
    "\n",
    "[Building with Rasa: eLearning chatbot](https://medium.com/rasa-blog/building-with-rasa-elearning-chatbot-2212399a9b8b)\n",
    "\n",
    "[RasaHQ/rasa_nlu](https://github.com/RasaHQ/rasa_nlu)\n",
    "\n",
    "[Installing specific package versions with pip](https://stackoverflow.com/questions/5226311/installing-specific-package-versions-with-pip)\n"
   ]
  },
  {
   "cell_type": "markdown",
   "metadata": {},
   "source": [
    "[How is sentence embedding derived?](https://github.com/explosion/spaCy/issues/311)\n",
    "\n",
    "[A curated list of awesome embedding models tutorials, projects and communities](https://github.com/arfu2016/awesome-embedding-models)\n",
    "\n",
    "[Do-it-yourself NLP for bot developers](https://medium.com/rasa-blog/do-it-yourself-nlp-for-bot-developers-2e2da2817f3d)\n",
    "\n",
    "[facebookresearch/fastText](https://github.com/facebookresearch/fastText)\n",
    "\n",
    "[fastText/pretrained-vectors.md](https://github.com/facebookresearch/fastText/blob/master/pretrained-vectors.md)\n",
    "\n",
    "[Polyglot](https://sites.google.com/site/rmyeid/projects/polyglot)\n",
    "\n",
    "[Kyubyong/wordvectors](https://github.com/Kyubyong/wordvectors)\n",
    "\n",
    "[以 gensim 訓練中文詞向量](http://zake7749.github.io/2016/08/28/word2vec-with-gensim/)\n",
    "\n",
    "[spaCy 101: Everything you need to know](https://spacy.io/usage/spacy-101)\n",
    "\n",
    "[spacy blog](https://explosion.ai/blog/)\n",
    "\n",
    "[NLP spaCy Word and document vectors](http://34.194.184.172/emotix/index.php/2017/05/13/nlp-spacy-word-and-document-vectors/)\n",
    "\n"
   ]
  },
  {
   "cell_type": "markdown",
   "metadata": {},
   "source": [
    "[What does Python's eval() do?](https://stackoverflow.com/questions/9383740/what-does-pythons-eval-do)\n",
    "\n"
   ]
  },
  {
   "cell_type": "markdown",
   "metadata": {},
   "source": [
    "[How to remove or delete single cron job using linux command?](https://askubuntu.com/questions/408611/how-to-remove-or-delete-single-cron-job-using-linux-command)\n",
    "\n",
    "[(Python) Use a library locally instead of installing it](https://stackoverflow.com/questions/9059699/python-use-a-library-locally-instead-of-installing-it)\n",
    "\n",
    "    from datetime import datetime\n",
    "    \n",
    "    datetime.now().strftime('%c')\n",
    "    \n",
    "    import time\n",
    "    \n",
    "    time.strftime(\"%Y-%m-%d %H:%M:%S\", time.gmtime(time.time()))\n",
    "    \n",
    "    "
   ]
  },
  {
   "cell_type": "markdown",
   "metadata": {},
   "source": [
    "[How to use \\*args and \\*\\*kwargs in Python](https://www.saltycrane.com/blog/2008/01/how-to-use-args-and-kwargs-in-python/)\n",
    "\n",
    "[How to pass dictionary items as function arguments in python?](https://stackoverflow.com/questions/21986194/how-to-pass-dictionary-items-as-function-arguments-in-python)\n",
    "\n",
    "[Illegal mix of collations MySQL Error](https://stackoverflow.com/questions/1008287/illegal-mix-of-collations-mysql-error)\n",
    "\n",
    "[How to Use MySQL Foreign Keys for Quicker Database Development](https://www.sitepoint.com/mysql-foreign-keys-quicker-database-development/)\n",
    "\n",
    "[How to use foreign key when querying from two tables](https://stackoverflow.com/questions/15969170/how-to-use-foreign-key-when-querying-from-two-tables)\n",
    "\n",
    "[pyMySQL set connection character set](https://stackoverflow.com/questions/11082909/pymysql-set-connection-character-set)\n",
    "\n",
    "[Simple Python Queue with Redis](http://peter-hoffmann.com/2012/python-simple-queue-redis-queue.html)\n",
    "\n",
    "[Redis with Python](http://www.bogotobogo.com/python/python_redis_with_python.php)\n",
    "\n",
    "[What is the best to use as queue: Redis, Mysql , Python list ](https://stackoverflow.com/questions/18033700/what-is-the-best-to-use-as-queue-redis-mysql-python-list)\n",
    "\n",
    "[Redis Persistence](https://redis.io/topics/persistence)\n",
    "\n",
    "[How to Create a Cron Job (Scheduled Task) for Your Website or Blog](https://www.thesitewizard.com/general/set-cron-job.shtml)\n",
    "\n",
    "You can see the contents of the system crontab file with sudo crontab -l . If you prefer to do it using a GUI, you can go to the Software Center and install Scheduled tasks (or run sudo apt-get install gnome-schedule ). It will provide a powerful GUI to add cron tasks.Aug 16, 2010\n"
   ]
  },
  {
   "cell_type": "markdown",
   "metadata": {},
   "source": [
    "[How to Use Redis with Python 3 and redis-py on Ubuntu 16.04](https://www.fullstackpython.com/blog/install-redis-use-python-3-ubuntu-1604.html)\n",
    "\n",
    "    git checkout develop\n",
    "    \n",
    "    git checkout -b develop_deco\n",
    "    \n",
    "在Python package下，一般module的命名都按与project root的关系来，如果直接import某个module，一般是built-in module or third-party module；在python folder下，一般module的命名使用相对路径\n",
    "\n",
    "[List ports a process PID is listening on (preferably using iproute2 tools)?](https://unix.stackexchange.com/questions/157823/list-ports-a-process-pid-is-listening-on-preferably-using-iproute2-tools)\n",
    "\n"
   ]
  },
  {
   "cell_type": "markdown",
   "metadata": {},
   "source": [
    "[Creating a specific 3.6 binary for Linux](https://github.com/tensorflow/tensorflow/issues/14182)\n",
    "\n",
    "[PyCharm and PYTHONPATH](https://stackoverflow.com/questions/28326362/pycharm-and-pythonpath)\n",
    "\n",
    "[Pycharm: Marking a folder as 'sources root' is not recursive for subfolders](https://stackoverflow.com/questions/42094723/pycharm-marking-a-folder-as-sources-root-is-not-recursive-for-subfolders/)\n",
    "\n",
    "First, set SourceCode as the sources root, not the project folder\n",
    "\n",
    "Second, SourceCode/aitest/aitest.py is the server which communicate to the management tool fo the web service\n",
    "\n",
    "Third, in SourceCode/server/, server.py is the server which communicate to the backend of the web service (not the web server itself, but the tool which communicates to the web server), push_test.py is the test file for server.py\n",
    "\n",
    "Under SourceCode, there are server.yaml（服务器配置文件） and requirements.txt（项目所要求的Python包）.\n",
    "\n",
    "In server.yaml, for local development, we use ENV_VALUE: \"local\"; for local development, the SERVER_NAME should correspond to the variant G_CHANNEL_GATEWAY_TO_ROBOT_DATA in push_test.py (if we use push_test.py to test)\n",
    "\n"
   ]
  },
  {
   "cell_type": "markdown",
   "metadata": {},
   "source": [
    "For spacy insall\n",
    "\n",
    "First, install dependencies\n",
    "\n",
    "    sudo apt-get update -y\n",
    "\n",
    "    # install python3 and dev headers\n",
    "    sudo apt-get install -y python3 python3-dev\n",
    "\n",
    "    # pip is great\n",
    "    sudo apt-get install -y python-pip\n",
    "\n",
    "    # for cryptography (required by twisted[tls])\n",
    "    sudo apt-get install -y libssl-dev libffi-dev\n",
    "\n",
    "    # for lxml\n",
    "    sudo apt-get install -y libxml2-dev libxslt1-dev\n",
    "\n",
    "[error: command 'x86_64-linux-gnu-gcc' failed with exit status 1](https://github.com/scrapy/scrapy/issues/2115)\n",
    "    \n",
    "Second, intall requirements.txt\n",
    "\n",
    "    pip install -r requirements.txt -i https://pypi.mirrors.ustc.edu.cn/simple\n",
    "    \n",
    "Third, install spaCy under spaCyCn   \n",
    "    \n",
    "    (py3) deco@ubuntu:~/projects/cupro/spaCyCn$ pip install -e .    \n",
    "    \n",
    "Fourth, do the same thing for ~/projects/cupro/rasa_nlu-master\n",
    "\n",
    "Fifth, install dev-requirements\n",
    "\n",
    "    (py3) deco@ubuntu:~/projects/cupro/rasa_nlu-master$ pip install -r dev-requirements.txt -i https://pypi.mirrors.ustc.edu.cn/simple\n",
    "    "
   ]
  },
  {
   "cell_type": "markdown",
   "metadata": {},
   "source": [
    "[Graph-based Data Model](https://www.w3.org/TR/rdf11-concepts/)\n",
    "\n",
    "[Jupyter Notebook in Pycharm](https://stackoverflow.com/questions/41736309/jupyter-notebook-in-pycharm)\n",
    "\n",
    "    sudo tar xf pycharm-community-2017.2.4.tar.gz -C /opt/pycharm\n",
    "    cd /opt/pycharm\n",
    "    cd pycharm-community-2017.2.4/\n",
    "    cd bin\n",
    "    ./pycharm.sh\n",
    "    \n",
    "[How do you get the regular software center from Ubuntu on Ubuntu Mate](https://askubuntu.com/questions/904177/how-do-you-get-the-regular-software-center-from-ubuntu-on-ubuntu-mate)\n",
    "\n",
    "[How can I list all applications installed in my system?](https://askubuntu.com/questions/433609/how-can-i-list-all-applications-installed-in-my-system)\n",
    "\n",
    "[Introduction to the Ubuntu Mate Desktop](https://docs.cs.cf.ac.uk/notes/mate-desktop/)\n",
    "\n",
    "[sklearn.linear_model.LogisticRegression](http://scikit-learn.org/stable/modules/generated/sklearn.linear_model.LogisticRegression.html)\n"
   ]
  },
  {
   "cell_type": "markdown",
   "metadata": {},
   "source": [
    "[Bidirectional recurrent neural networks](https://en.wikipedia.org/wiki/Bidirectional_recurrent_neural_networks)\n",
    "\n",
    "下载 wget in mate terminal\n",
    "\n",
    "    wget https://download-cf.jetbrains.com/python/pycharm-community-2017.2.4.tar.gz\n",
    "    "
   ]
  },
  {
   "cell_type": "markdown",
   "metadata": {},
   "source": []
  }
 ],
 "metadata": {
  "kernelspec": {
   "display_name": "Python 3",
   "language": "python",
   "name": "python3"
  },
  "language_info": {
   "codemirror_mode": {
    "name": "ipython",
    "version": 3
   },
   "file_extension": ".py",
   "mimetype": "text/x-python",
   "name": "python",
   "nbconvert_exporter": "python",
   "pygments_lexer": "ipython3",
   "version": "3.6.3"
  }
 },
 "nbformat": 4,
 "nbformat_minor": 2
}
